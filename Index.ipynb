{
 "cells": [
  {
   "cell_type": "markdown",
   "metadata": {},
   "source": [
    "### Import required libraries"
   ]
  },
  {
   "cell_type": "code",
   "execution_count": 1,
   "metadata": {},
   "outputs": [],
   "source": [
    "import numpy as np\n",
    "import matplotlib.pyplot as plt\n",
    "import re"
   ]
  },
  {
   "cell_type": "markdown",
   "metadata": {},
   "source": [
    "### Read the dataset"
   ]
  },
  {
   "cell_type": "code",
   "execution_count": 2,
   "metadata": {},
   "outputs": [],
   "source": [
    "filename = 'Project (Application 1) (MetuSabanci Treebank).conll'\n",
    "\n",
    "sentences = []\n",
    "with open(filename, encoding=\"utf-8-sig\") as infh:\n",
    "    sentence = []\n",
    "    for line in infh:\n",
    "        if len(line) == 1:\n",
    "            sentences.append(sentence.copy())\n",
    "            sentence = []\n",
    "        else:\n",
    "            line_split = line.strip().split('\\t')\n",
    "            if line_split[1] != '_':\n",
    "                if line_split[1].lower() == 'satın': # An error in the corpus that should be fixed by using POS 'Noun'\n",
    "                    sentence.append([line_split[1], 'Noun'])\n",
    "                else:\n",
    "                    sentence.append([line_split[1], line_split[3]])"
   ]
  },
  {
   "cell_type": "markdown",
   "metadata": {},
   "source": [
    "### Split the data into training and test sets"
   ]
  },
  {
   "cell_type": "code",
   "execution_count": 3,
   "metadata": {},
   "outputs": [],
   "source": [
    "np.random.shuffle(sentences)\n",
    "train_size = round(len(sentences)*0.9)\n",
    "training = sentences[:train_size]\n",
    "test = sentences[train_size:]"
   ]
  },
  {
   "cell_type": "markdown",
   "metadata": {},
   "source": [
    "### Train the model"
   ]
  },
  {
   "cell_type": "code",
   "execution_count": 65,
   "metadata": {},
   "outputs": [],
   "source": [
    "# Train seperate classifiers for the following features\n",
    "# a non-first word whose first letter is capital (e.g. Ahmet -> Noun)\n",
    "def non_first_capital_word_checker(word, **kwargs):\n",
    "    return 'first_token' in kwargs and not kwargs['first_token'] and word[0] == word[0].upper()\n",
    "# ends with -ıp, -ip, -up etc. (e.g. kurtulup, yapıp, edip etc. -> adj)\n",
    "def endswith_up_checker(word, **kwargs):\n",
    "    return re.search(r'.+[ıiuü]p$', word) is not None\n",
    "# ends with -rdı, -rdi, -rdik, -rdim etc. (e.g. yapardı, koşardı, getirdik, ettim etc. -> verb)\n",
    "def endswith_rdik_checker(word, **kwargs):\n",
    "    return re.search(r'.+rd[ıiuü][mk]*$', word) is not None\n",
    "# ends with -ı, -i, -yı, -yi etc. (e.g. yapmayı, götürüyü etc. -> noun)\n",
    "def endswith_yi_checker(word, **kwargs):\n",
    "    return re.search(r'y?[ıiuü]$', word) is not None\n",
    "# ends with -mış, -miş, -mışsınız, -mişiz etc. (e.g. yapmışız, koşmuşuz etc. -> verb)\n",
    "def endswith_mis_checker(word, **kwargs):\n",
    "    return re.search(r'.+m[ıiuü]ş([ıiuü]m|s[ıiuü]n([ıiuü]z)?|[ıiuü]z|l[ea]r)?$', word) is not None\n",
    "    #return re.search(r'm[ı,i,u,ü]ş[s]*[ı,i,u,ü]*[n]*[ı,i,u,ü]*[z]*$', word) is not None\n",
    "# ends with -dı, -di, -diler, -tünüz etc. (e.g. yaptık, koştular etc. -> verb)\n",
    "def endswith_di_checker(word, **kwargs):\n",
    "    return re.search(r'.+[dt][ıiuü](m|n|k|n[ıiuü]z|l[ea]r)?$', word) is not None\n",
    "    #return re.search(r'[d,t][ı,i,u,ü][l]*[e,a]*[r]*[k]*[n]*[ı,i,u,ü]*[z]*$', word) is not None\n",
    "# ends with -ca, -ce etc. (e.g. kısaca, kabaca etc. -> adv)\n",
    "def endswith_ca_checker(word, **kwargs):\n",
    "    return re.search(r'.+[cç][ae]$', word) is not None\n",
    "# ends with -la, -yle etc. (e.g. benle, eliyle etc. -> adv)\n",
    "def endswith_yla_checker(word, **kwargs):\n",
    "    return re.search(r'.+y?l[ae]$', word) is not None\n",
    "# ends with -ecek, -acak etc. (e.g. edeceğiz, yapacaklar etc. -> verb)\n",
    "def endswith_acak_checker(word, **kwargs):\n",
    "    return re.search(r'.+(aca|ece)(ğ[ıi][mz]|ks[ıi]n([ıi]z)?|k(l[ea]r)?)$', word) is not None\n",
    "    #return re.search(r'[a,e]c[a,e][ğ,k][s]*[l]*[a,e,ı,i]*[r]*[n]*[ı,i]*[z]*[m]*$', word) is not None\n",
    "# ends with -an, -en etc. (e.g. yapan, edenleri etc. -> adv)\n",
    "def endswith_an_checker(word, **kwargs):\n",
    "    return re.search(r'[ae]n[l]*[ae]*[r]*[ıi]*$', word) is not None\n",
    "# ends with -e, -a, -de, -da, -den, -ten etc.\n",
    "def endswith_a_checker(word, **kwargs):\n",
    "    return re.search(r'[l]*[a,e]*[r]*[aeıiuü][yl]*[mn]*[ıiuü]*[z]*[dt]*[ae]*[n]*$', word) is not None\n",
    "# ends with -lerine, -mize etc. (e.g. kendimize, kendilerine etc. -> adv)\n",
    "def endswith_ine_checker(word, **kwargs):\n",
    "    return re.search(r'[l]*[ae]*[r]*[ıi]*[mn][aeıi][z]*[ae]*$', word) is not None\n",
    "# ends with -şme, -şma etc. (e.g. sürtüşme, kapışma etc. -> noun)\n",
    "def endswith_sme_checker(word, **kwargs):\n",
    "    return re.search(r'.+şm[ae][l]*[ae]*[r]*[ıi]*[n]*$', word) is not None\n",
    "# ends with -me, -ma, -mek, -mak etc. (e.g. etme, yapmak etc. -> noun)\n",
    "def endswith_ma_checker(word, **kwargs):\n",
    "    return re.search(r'.+m[ae][k]?$', word) is not None\n",
    "# ends with -siz, -suz etc. (e.g. sessiz, susuz etc. -> adj)\n",
    "def endswith_siz_checker(word, **kwargs):\n",
    "    return re.search(r'.+s[ıiuü]z$', word) is not None\n",
    "# ends with -li -lu etc. (e.g. sesli, sulu etc. -> adj)\n",
    "def endswith_li_checker(word, **kwargs):\n",
    "    return re.search(r'.+l[ıiuü]$', word) is not None\n",
    "# ends with -(n)in etc. (e.g. şişenin, masanın etc. -> noun)\n",
    "def endswith_nin_checker(word, **kwargs):\n",
    "    return re.search(r'.+n?[ıiuü]n$', word) is not None\n",
    "# ends with -(n)da etc. (e.g. sonunda, içinde etc. -> noun)\n",
    "def endswith_nda_checker(word, **kwargs):\n",
    "    return re.search(r'.+nd[ae]$', word) is not None\n",
    "# ends with -de, -den etc. (e.g. evden, bende etc. -> noun)\n",
    "def endswith_deden_checker(word, **kwargs):\n",
    "    return re.search(r'.+d[ae]n?$', word) is not None\n",
    "# ends with -se -sa etc. (e.g. gelse, yapsalar)\n",
    "def endswith_sa_checker(word, **kwargs):\n",
    "    return re.search(r'.+s[ea](m|n([ıi]z)?|k|l[ea]r)?$', word) is not None\n",
    "# ends with -se -sa etc. (e.g. gelse, yapsalar)\n",
    "def endswith_dir_checker(word, **kwargs):\n",
    "    return re.search(r'.+[dt][ıiuü]r$', word) is not None\n",
    "# contains hyphen\n",
    "def contains_hyphen_checker(word, **kwargs):\n",
    "    return re.search(r'.+\\'.+', word) is not None\n",
    "# allcaps\n",
    "def is_all_caps(word, **kwargs):\n",
    "    return re.search(r'^[A-ZÇÖİŞÜĞ]+$', word) is not None\n",
    "\n",
    "def endswith_yor_checker(word, **kwargs):\n",
    "    return re.search(r'.+[ıiuü]?yor(um|sun|uz|sunuz|lar)?$', word) is not None\n",
    "\n",
    "# precursor of questions\n",
    "def startswith_mi_checker(word, **kwargs):\n",
    "    return re.search(r'^m[ıiuü]', word) is not None\n",
    "\n",
    "# derivational morphology for Verb->Adv change (-ken, -alı, -madan, -ince, -ip, -arak, -la, -dıkça)\n",
    "def endswith_erek_checker(word, **kwargs):\n",
    "    return re.search(r'.+(erek|arak)$', word) is not None\n",
    "\n",
    "def endswith_dikca_checker(word, **kwargs):\n",
    "    return re.search(r'.+[dt]([iü]kçe|[ıu]kça)$', word) is not None\n",
    "\n",
    "def endswith_madan_checker(word, **kwargs):\n",
    "    return re.search(r'.+m(ada|ede)n$', word) is not None\n",
    "\n",
    "def endswith_ken_checker(word, **kwargs):\n",
    "    return re.search(r'.+y?ken$', word) is not None\n",
    "\n",
    "features = [non_first_capital_word_checker, endswith_up_checker, endswith_rdik_checker, \n",
    "            endswith_mis_checker, endswith_di_checker, endswith_ca_checker, endswith_acak_checker,\n",
    "            endswith_an_checker, endswith_ine_checker, endswith_sme_checker, endswith_ma_checker,\n",
    "            endswith_dir_checker, \n",
    "            endswith_siz_checker, endswith_li_checker, endswith_sa_checker, endswith_deden_checker,\n",
    "            contains_hyphen_checker, endswith_yla_checker, endswith_nin_checker, endswith_nda_checker,\n",
    "            endswith_yor_checker, startswith_mi_checker, endswith_erek_checker,\n",
    "            endswith_dikca_checker, endswith_madan_checker,\n",
    "            endswith_ken_checker, is_all_caps ]\n",
    "\n",
    "unknown_probs_d = {'Adj': 0.10, 'Adv': 0.10, 'Interj': 0.05, 'Dup': 0.05, 'Num': 0.05, \n",
    "                   'Verb': 0.30, 'Noun': 0.40, 'Conj': 0.01, 'Det': 0.001, \n",
    "                   'Postp': 0.05, 'Punc': 0.001, 'Zero': 0.001, 'Pron': 0.10, 'Ques': 0.01}"
   ]
  },
  {
   "cell_type": "code",
   "execution_count": 66,
   "metadata": {},
   "outputs": [],
   "source": [
    "# Extract the possible POS tags and Tokens in the training set into two sets\n",
    "POS_tags = set()\n",
    "tokens = set()\n",
    "for sentence in training:\n",
    "    for token, tag in sentence:\n",
    "        POS_tags.add(tag)\n",
    "        tokens.add(token)\n",
    "        \n",
    "# Convert tag and token sets into lists to have reference indices per tag/token\n",
    "POS_tags = list(POS_tags)\n",
    "tokens = list(tokens)\n",
    "\n",
    "# Create and fill the transition and observation probability matrices\n",
    "transition_probs = np.zeros((len(POS_tags)+1, len(POS_tags))) # +1 represents <s> (sentence beginning)\n",
    "observation_probs = np.zeros((len(POS_tags), len(tokens)))\n",
    "t_1_counts = np.zeros(len(POS_tags)+1)\n",
    "t_counts = np.zeros(len(POS_tags))\n",
    "feature_probs = np.zeros((len(POS_tags), len(features)))\n",
    "\n",
    "for sentence in training:\n",
    "    last_tag = '<s>'\n",
    "    first_token = True\n",
    "    for token, tag in sentence:\n",
    "        t_1 = 0 if last_tag == '<s>' else POS_tags.index(last_tag) + 1\n",
    "        t = POS_tags.index(tag)\n",
    "        transition_probs[t_1, t] += 1\n",
    "        t_1_counts[t_1] += 1\n",
    "        t_counts[t] += 1\n",
    "        \n",
    "        w = tokens.index(token)\n",
    "        observation_probs[t, w] += 1\n",
    "        \n",
    "        for feature in features:\n",
    "            if feature(token, first_token=first_token):\n",
    "                f = features.index(feature)\n",
    "                feature_probs[t, f] += 1\n",
    "        \n",
    "        last_tag = tag\n",
    "        \n",
    "        if first_token:\n",
    "            first_token = False\n",
    "        \n",
    "transition_probs = (transition_probs.T/t_1_counts).T\n",
    "observation_probs = (observation_probs.T/t_counts).T\n",
    "feature_probs = (feature_probs.T/t_counts).T\n",
    "unknown_probs = [unknown_probs_d[POS] for POS in POS_tags]"
   ]
  },
  {
   "cell_type": "markdown",
   "metadata": {},
   "source": [
    "### Test the model"
   ]
  },
  {
   "cell_type": "code",
   "execution_count": 67,
   "metadata": {},
   "outputs": [],
   "source": [
    "def get_token_likelihood(state, token, b, first_token=False):\n",
    "    if token in tokens:\n",
    "        return b[state, tokens.index(token)]\n",
    "    w = unknown_probs[state]\n",
    "    for feature in features:\n",
    "        if feature(token, first_token=first_token):\n",
    "            f = features.index(feature)\n",
    "            w = w * feature_probs[state, f]\n",
    "    return w\n",
    "\n",
    "def viterbi(states, observations, a, b):\n",
    "    v = np.zeros((len(states)+2, len(observations)))\n",
    "    backpointer = np.zeros((len(states)+2, len(observations))).astype(np.int)\n",
    "    \n",
    "    for s in range(1,len(states)+1):\n",
    "        v[s,0] = a[0,s-1] * get_token_likelihood(s-1, observations[0], b, first_token=True)\n",
    "        backpointer[s,0] = 0\n",
    "    \n",
    "    for t, o in enumerate(observations):\n",
    "        if t == 0: continue\n",
    "        for s in range(1,len(states)+1):\n",
    "            v_max = -1\n",
    "            v_argmax = -1\n",
    "            bs = get_token_likelihood(s-1, o, b)\n",
    "            for s_prime in range(1,len(states)+1):\n",
    "                v_curr = v[s_prime,t-1] * a[s_prime,s-1] * bs\n",
    "                if v_curr > v_max:\n",
    "                    v_max = v_curr\n",
    "                    v_argmax = s_prime\n",
    "            v[s,t] = v_max\n",
    "            backpointer[s,t] = v_argmax\n",
    "    \n",
    "    v[len(states)+1,len(observations)-1] = np.max(v[:,len(observations)-1])\n",
    "    backpointer[len(states)+1,len(observations)-1] = max(1, np.argmax(v[:,len(observations)-1]))\n",
    "    \n",
    "    trace = []\n",
    "    bp = backpointer[len(states)+1,len(observations)-1]\n",
    "    row = len(states)+1\n",
    "    column = len(observations)-1\n",
    "    while row != 0:\n",
    "        bp = backpointer[row, column]\n",
    "        trace = [bp-1] + trace\n",
    "        if row != len(states)+1:\n",
    "            column = column - 1\n",
    "        row = bp\n",
    "    \n",
    "    return [states[state_idx] for state_idx in trace[1:]]"
   ]
  },
  {
   "cell_type": "code",
   "execution_count": 68,
   "metadata": {},
   "outputs": [
    {
     "name": "stdout",
     "output_type": "stream",
     "text": [
      "Overall tag-based accuracy on test set: 0.9195035460992907\n",
      "Sentence-based accuracy on test set: 0.4991119005328597\n",
      "----\n",
      "Accuracy for tag \"Num\" on test set: 0.6086956521739131\n",
      "Accuracy for tag \"Punc\" on test set: 1.0\n",
      "Accuracy for tag \"Zero\" on test set: nan\n",
      "Accuracy for tag \"Adv\" on test set: 0.8561643835616438\n",
      "Accuracy for tag \"Det\" on test set: 0.9842105263157894\n",
      "Accuracy for tag \"Noun\" on test set: 0.9592021758839528\n",
      "Accuracy for tag \"Adj\" on test set: 0.6914498141263941\n",
      "Accuracy for tag \"Pron\" on test set: 0.9117647058823529\n",
      "Accuracy for tag \"Dup\" on test set: 1.0\n",
      "Accuracy for tag \"Verb\" on test set: 0.8848314606741573\n",
      "Accuracy for tag \"Conj\" on test set: 0.9661016949152542\n",
      "Accuracy for tag \"Ques\" on test set: 0.8666666666666667\n",
      "Accuracy for tag \"Interj\" on test set: 0.6\n",
      "Accuracy for tag \"Postp\" on test set: 0.8899082568807339\n"
     ]
    },
    {
     "name": "stderr",
     "output_type": "stream",
     "text": [
      "/usr/local/lib/python3.6/dist-packages/ipykernel_launcher.py:26: RuntimeWarning: invalid value encountered in double_scalars\n"
     ]
    }
   ],
   "source": [
    "correct_sentence = 0\n",
    "confusion_matrix = np.zeros((len(POS_tags), len(POS_tags)))\n",
    "\n",
    "examples = []\n",
    "for t in test:\n",
    "    pred=viterbi(POS_tags, list(map(lambda x:x[0], t)), transition_probs, observation_probs)\n",
    "    gold=list(map(lambda x:x[1], t))\n",
    "    \n",
    "    examples += [(t[h][0], gold[h], pred[h]) for h in range(len(gold))]\n",
    "    \n",
    "    for tag_idx, gold_tag in enumerate(gold):\n",
    "        confusion_matrix[POS_tags.index(gold_tag), POS_tags.index(pred[tag_idx])] += 1\n",
    "        \n",
    "    curr_correct = np.sum([1 if gold[i] == pred[i] else 0 for i in range(len(gold))])\n",
    "    \n",
    "    if len(gold) == curr_correct:\n",
    "        correct_sentence += 1\n",
    "    \n",
    "tag_based_accuracy = np.trace(confusion_matrix) / np.sum(np.sum(confusion_matrix))\n",
    "sentence_based_accuracy = correct_sentence / len(test)\n",
    "\n",
    "print('Overall tag-based accuracy on test set:', tag_based_accuracy)\n",
    "print('Sentence-based accuracy on test set:', sentence_based_accuracy)\n",
    "print('----')\n",
    "for i in range(len(POS_tags)):\n",
    "    print('Accuracy for tag \"{}\" on test set:'.format(POS_tags[i]), confusion_matrix[i,i] / np.sum(confusion_matrix[i,:]))"
   ]
  },
  {
   "cell_type": "code",
   "execution_count": 69,
   "metadata": {},
   "outputs": [
    {
     "data": {
      "image/png": "[encoded data removed]",
      "text/plain": [
       "<matplotlib.figure.Figure at 0x7fc8f0e55940>"
      ]
     },
     "metadata": {
      "needs_background": "light"
     },
     "output_type": "display_data"
    }
   ],
   "source": [
    "plt.figure(figsize=(14, 14))\n",
    "plt.imshow(confusion_matrix, interpolation='nearest', cmap=plt.get_cmap('Blues'))\n",
    "plt.colorbar()\n",
    "\n",
    "threshold = confusion_matrix.max() / 2\n",
    "for i in range(confusion_matrix.shape[0]):\n",
    "    for j in range(confusion_matrix.shape[1]):\n",
    "        plt.text(j, i, \"{}\".format(confusion_matrix[i, j]), horizontalalignment=\"center\",\n",
    "                 color=\"white\" if confusion_matrix[i, j] > threshold else \"black\")\n",
    "\n",
    "plt.tight_layout()\n",
    "plt.xticks(np.arange(len(POS_tags)), POS_tags, rotation=45)\n",
    "plt.yticks(np.arange(len(POS_tags)), POS_tags)\n",
    "plt.ylabel('True label')\n",
    "plt.xlabel('Predicted label')\n",
    "plt.title('Confusion matrix')\n",
    "plt.show()"
   ]
  },
  {
   "cell_type": "code",
   "execution_count": 32,
   "metadata": {},
   "outputs": [
    {
     "data": {
      "text/plain": [
       "[('başka', 'Postp', 'Adj'),\n",
       " ('doğru', 'Postp', 'Adj'),\n",
       " ('doğru', 'Postp', 'Adj')]"
      ]
     },
     "execution_count": 32,
     "metadata": {},
     "output_type": "execute_result"
    }
   ],
   "source": [
    "list(filter(lambda e: e[1]=='Postp' and e[2]=='Adj' ,examples))"
   ]
  },
  {
   "cell_type": "code",
   "execution_count": 31,
   "metadata": {},
   "outputs": [
    {
     "data": {
      "text/plain": [
       "[('ile', 'Postp', 'Conj'), ('ise', 'Postp', 'Conj'), ('ile', 'Postp', 'Conj')]"
      ]
     },
     "execution_count": 31,
     "metadata": {},
     "output_type": "execute_result"
    }
   ],
   "source": [
    "list(filter(lambda e: e[1]=='Postp' and e[2]=='Conj' ,examples))"
   ]
  },
  {
   "cell_type": "code",
   "execution_count": 30,
   "metadata": {},
   "outputs": [
    {
     "data": {
      "text/plain": [
       "[('muydu', 'Ques', 'Verb'), ('miydin', 'Ques', 'Verb')]"
      ]
     },
     "execution_count": 30,
     "metadata": {},
     "output_type": "execute_result"
    }
   ],
   "source": [
    "list(filter(lambda e: e[1]=='Ques' and e[2]=='Verb' ,examples))"
   ]
  },
  {
   "cell_type": "code",
   "execution_count": 34,
   "metadata": {},
   "outputs": [
    {
     "data": {
      "text/plain": [
       "[('çok', 'Adj', 'Adv'),\n",
       " ('çok', 'Adj', 'Adv'),\n",
       " ('Çok', 'Adj', 'Adv'),\n",
       " ('İyi', 'Adj', 'Adv'),\n",
       " ('Az', 'Adj', 'Adv'),\n",
       " ('delice', 'Adj', 'Adv'),\n",
       " ('kuşkusuz', 'Adj', 'Adv'),\n",
       " ('şöyle', 'Adj', 'Adv'),\n",
       " ('yok', 'Adj', 'Adv'),\n",
       " ('biraz', 'Adj', 'Adv'),\n",
       " ('açık', 'Adj', 'Adv'),\n",
       " ('böyle', 'Adj', 'Adv'),\n",
       " ('Karşı', 'Adj', 'Adv')]"
      ]
     },
     "execution_count": 34,
     "metadata": {},
     "output_type": "execute_result"
    }
   ],
   "source": [
    "list(filter(lambda e: e[1]=='Adj' and e[2]=='Adv' ,examples))"
   ]
  },
  {
   "cell_type": "code",
   "execution_count": 52,
   "metadata": {},
   "outputs": [
    {
     "data": {
      "text/plain": [
       "[('neden', 'Pron', 'Noun'),\n",
       " ('biri', 'Pron', 'Noun'),\n",
       " ('biri', 'Pron', 'Noun'),\n",
       " ('Bunlardan', 'Pron', 'Noun'),\n",
       " ('neyin', 'Pron', 'Noun'),\n",
       " ('birinden', 'Pron', 'Noun'),\n",
       " ('Hepimizce', 'Pron', 'Noun'),\n",
       " ('Bazılarımız', 'Pron', 'Noun'),\n",
       " ('Hepsinin', 'Pron', 'Noun'),\n",
       " ('bunda', 'Pron', 'Noun')]"
      ]
     },
     "execution_count": 52,
     "metadata": {},
     "output_type": "execute_result"
    }
   ],
   "source": [
    "list(filter(lambda e: e[1]=='Pron' and e[2]=='Noun' ,examples))"
   ]
  },
  {
   "cell_type": "code",
   "execution_count": 37,
   "metadata": {},
   "outputs": [
    {
     "data": {
      "text/plain": [
       "[('seksenbes', 'Num', 'Noun'),\n",
       " ('dortyuz-besyuz', 'Num', 'Noun'),\n",
       " ('üçyüzon', 'Num', 'Noun'),\n",
       " ('Elli', 'Num', 'Noun'),\n",
       " ('ondokuz', 'Num', 'Noun'),\n",
       " ('bindokuzyüzotuzbir', 'Num', 'Noun'),\n",
       " ('BİRBUÇUK', 'Num', 'Noun'),\n",
       " ('birbuçuk', 'Num', 'Noun'),\n",
       " ('1-2', 'Num', 'Noun'),\n",
       " ('yuz', 'Num', 'Noun'),\n",
       " ('yuz', 'Num', 'Noun'),\n",
       " ('ondokuz', 'Num', 'Noun'),\n",
       " ('dörtyüzotuz', 'Num', 'Noun'),\n",
       " (\"yirmiüç'üncü\", 'Num', 'Noun')]"
      ]
     },
     "execution_count": 37,
     "metadata": {},
     "output_type": "execute_result"
    }
   ],
   "source": [
    "list(filter(lambda e: e[1]=='Num' and e[2]=='Noun' ,examples))"
   ]
  },
  {
   "cell_type": "code",
   "execution_count": 38,
   "metadata": {},
   "outputs": [
    {
     "data": {
      "text/plain": [
       "[('ne', 'Conj', 'Pron'), ('ne', 'Conj', 'Pron')]"
      ]
     },
     "execution_count": 38,
     "metadata": {},
     "output_type": "execute_result"
    }
   ],
   "source": [
    "list(filter(lambda e: e[1]=='Conj' and e[2]=='Pron' ,examples))"
   ]
  },
  {
   "cell_type": "code",
   "execution_count": 53,
   "metadata": {},
   "outputs": [
    {
     "data": {
      "text/plain": [
       "[('bahsederken', 'Adv', 'Noun'),\n",
       " ('etmemişken', 'Adv', 'Noun'),\n",
       " ('vekaleten', 'Adv', 'Noun'),\n",
       " ('aylarca', 'Adv', 'Noun'),\n",
       " ('anlatırken', 'Adv', 'Noun'),\n",
       " ('aniden', 'Adv', 'Noun'),\n",
       " ('ardından', 'Adv', 'Noun'),\n",
       " ('yerinde', 'Adv', 'Noun'),\n",
       " ('sonradan', 'Adv', 'Noun'),\n",
       " ('Demek', 'Adv', 'Noun'),\n",
       " ('EN', 'Adv', 'Noun'),\n",
       " ('yatınca', 'Adv', 'Noun'),\n",
       " ('Besbelli', 'Adv', 'Noun'),\n",
       " ('sürerken', 'Adv', 'Noun'),\n",
       " ('cidden', 'Adv', 'Noun'),\n",
       " ('korurken', 'Adv', 'Noun'),\n",
       " ('neden', 'Adv', 'Noun'),\n",
       " ('iktidardayken', 'Adv', 'Noun'),\n",
       " ('türlü', 'Adv', 'Noun'),\n",
       " ('baştan', 'Adv', 'Noun'),\n",
       " ('Herhalde', 'Adv', 'Noun'),\n",
       " ('habire', 'Adv', 'Noun')]"
      ]
     },
     "execution_count": 53,
     "metadata": {},
     "output_type": "execute_result"
    }
   ],
   "source": [
    "list(filter(lambda e: e[1]=='Adv' and e[2]=='Noun' ,examples))"
   ]
  },
  {
   "cell_type": "code",
   "execution_count": 55,
   "metadata": {},
   "outputs": [
    {
     "data": {
      "text/plain": [
       "[('tamam', 'Noun', 'Verb'),\n",
       " ('halkı', 'Noun', 'Verb'),\n",
       " ('hattı', 'Noun', 'Verb'),\n",
       " ('profesör', 'Noun', 'Verb'),\n",
       " ('Yaşantı', 'Noun', 'Verb'),\n",
       " ('tarzı', 'Noun', 'Verb'),\n",
       " ('konuşmacılar', 'Noun', 'Verb'),\n",
       " ('kahvaltı', 'Noun', 'Verb'),\n",
       " ('kumlar', 'Noun', 'Verb'),\n",
       " ('yanıtı', 'Noun', 'Verb'),\n",
       " ('parantez', 'Noun', 'Verb'),\n",
       " ('götürdüğünü', 'Noun', 'Verb'),\n",
       " ('burası', 'Noun', 'Verb'),\n",
       " ('katı', 'Noun', 'Verb'),\n",
       " ('saça', 'Noun', 'Verb'),\n",
       " ('Uçuş', 'Noun', 'Verb'),\n",
       " ('bastırıvemiş', 'Noun', 'Verb'),\n",
       " ('edivemiş', 'Noun', 'Verb'),\n",
       " ('diyem', 'Noun', 'Verb'),\n",
       " ('fasulyesi', 'Noun', 'Verb'),\n",
       " ('hürriyeti', 'Noun', 'Verb'),\n",
       " ('derdin', 'Noun', 'Verb'),\n",
       " ('satır', 'Noun', 'Verb'),\n",
       " ('imgeler', 'Noun', 'Verb'),\n",
       " ('ellialtı', 'Noun', 'Verb'),\n",
       " ('elliüç', 'Noun', 'Verb'),\n",
       " ('fezlekesi', 'Noun', 'Verb'),\n",
       " ('giysileri', 'Noun', 'Verb'),\n",
       " ('ağabeyisi', 'Noun', 'Verb'),\n",
       " ('içmeye', 'Noun', 'Verb'),\n",
       " ('hıyar', 'Noun', 'Verb'),\n",
       " ('aceleciliği', 'Noun', 'Verb'),\n",
       " ('akordu', 'Noun', 'Verb'),\n",
       " ('futbolcusu', 'Noun', 'Verb'),\n",
       " ('yanlışlığı', 'Noun', 'Verb'),\n",
       " ('fallacies', 'Noun', 'Verb'),\n",
       " ('refuted', 'Noun', 'Verb'),\n",
       " ('mersi', 'Noun', 'Verb'),\n",
       " ('Öğretmenim', 'Noun', 'Verb'),\n",
       " ('ulaştırmam', 'Noun', 'Verb'),\n",
       " ('gerek', 'Noun', 'Verb'),\n",
       " ('ilaç', 'Noun', 'Verb'),\n",
       " ('postu', 'Noun', 'Verb'),\n",
       " ('hayatım', 'Noun', 'Verb'),\n",
       " ('patatesi', 'Noun', 'Verb'),\n",
       " ('odun', 'Noun', 'Verb'),\n",
       " ('ütopyam', 'Noun', 'Verb'),\n",
       " ('limanlara', 'Noun', 'Verb'),\n",
       " ('yaşlısı', 'Noun', 'Verb'),\n",
       " ('toplantılar', 'Noun', 'Verb'),\n",
       " ('harekatı', 'Noun', 'Verb'),\n",
       " ('bayım', 'Noun', 'Verb')]"
      ]
     },
     "execution_count": 55,
     "metadata": {},
     "output_type": "execute_result"
    }
   ],
   "source": [
    "list(filter(lambda e: e[1]=='Noun' and e[2]=='Verb' ,examples))"
   ]
  },
  {
   "cell_type": "code",
   "execution_count": 57,
   "metadata": {},
   "outputs": [
    {
     "data": {
      "text/plain": [
       "[('terkedilmiş', 'Adj', 'Verb'),\n",
       " ('yaşandığı', 'Adj', 'Verb'),\n",
       " ('dolduracak', 'Adj', 'Verb'),\n",
       " ('frenleyecek', 'Adj', 'Verb'),\n",
       " ('var', 'Adj', 'Verb'),\n",
       " ('sağlayacak', 'Adj', 'Verb'),\n",
       " ('getirecek', 'Adj', 'Verb'),\n",
       " ('toplanmış', 'Adj', 'Verb'),\n",
       " ('silkelenmiş', 'Adj', 'Verb'),\n",
       " ('toparlanamayacak', 'Adj', 'Verb'),\n",
       " ('güdük', 'Adj', 'Verb'),\n",
       " ('kalmış', 'Adj', 'Verb'),\n",
       " ('gelişememiş', 'Adj', 'Verb'),\n",
       " ('gelmiş', 'Adj', 'Verb'),\n",
       " ('çıkmaz', 'Adj', 'Verb'),\n",
       " ('kesilmiş', 'Adj', 'Verb'),\n",
       " ('yok', 'Adj', 'Verb'),\n",
       " ('Anlar', 'Adj', 'Verb'),\n",
       " ('sınayacak', 'Adj', 'Verb'),\n",
       " ('başlayacak', 'Adj', 'Verb'),\n",
       " ('bastıracak', 'Adj', 'Verb'),\n",
       " ('yeter', 'Adj', 'Verb'),\n",
       " ('başlayacak', 'Adj', 'Verb'),\n",
       " ('dilimlenmiş', 'Adj', 'Verb'),\n",
       " ('sarsacak', 'Adj', 'Verb'),\n",
       " ('var', 'Adj', 'Verb'),\n",
       " ('atılmış', 'Adj', 'Verb'),\n",
       " ('bağlamış', 'Adj', 'Verb'),\n",
       " ('sağlayacak', 'Adj', 'Verb'),\n",
       " ('türetilmiş', 'Adj', 'Verb')]"
      ]
     },
     "execution_count": 57,
     "metadata": {},
     "output_type": "execute_result"
    }
   ],
   "source": [
    "list(filter(lambda e: e[1]=='Adj' and e[2]=='Verb' ,examples))"
   ]
  },
  {
   "cell_type": "code",
   "execution_count": 71,
   "metadata": {},
   "outputs": [
    {
     "data": {
      "text/plain": [
       "[('günlük', 'Noun', 'Adj'),\n",
       " ('Kıbrıslı', 'Noun', 'Adj'),\n",
       " ('dışı', 'Noun', 'Adj'),\n",
       " ('önemli', 'Noun', 'Adj'),\n",
       " ('farklı', 'Noun', 'Adj'),\n",
       " ('arka', 'Noun', 'Adj'),\n",
       " ('kara', 'Noun', 'Adj'),\n",
       " ('doğumlu', 'Noun', 'Adj'),\n",
       " ('emekli', 'Noun', 'Adj'),\n",
       " ('uzman', 'Noun', 'Adj'),\n",
       " ('ilgili', 'Noun', 'Adj'),\n",
       " ('yakın', 'Noun', 'Adj'),\n",
       " ('Genç', 'Noun', 'Adj'),\n",
       " ('canlı', 'Noun', 'Adj'),\n",
       " ('hazırladığı', 'Noun', 'Adj'),\n",
       " ('gelecek', 'Noun', 'Adj'),\n",
       " ('temel', 'Noun', 'Adj'),\n",
       " ('üst', 'Noun', 'Adj'),\n",
       " ('geçerli', 'Noun', 'Adj'),\n",
       " ('çaresiz', 'Noun', 'Adj'),\n",
       " ('eksik', 'Noun', 'Adj'),\n",
       " ('sevdiğiniz', 'Noun', 'Adj'),\n",
       " ('Orta', 'Noun', 'Adj'),\n",
       " ('ilgili', 'Noun', 'Adj'),\n",
       " ('aşağı', 'Noun', 'Adj'),\n",
       " ('uygun', 'Noun', 'Adj')]"
      ]
     },
     "execution_count": 71,
     "metadata": {},
     "output_type": "execute_result"
    }
   ],
   "source": [
    "list(filter(lambda e: e[1]=='Noun' and e[2]=='Adj' ,examples))"
   ]
  },
  {
   "cell_type": "code",
   "execution_count": 72,
   "metadata": {},
   "outputs": [
    {
     "data": {
      "text/plain": [
       "[('Elleşme', 'Verb', 'Noun'),\n",
       " ('muhtacız', 'Verb', 'Noun'),\n",
       " ('çektirmez', 'Verb', 'Noun'),\n",
       " ('kamulaştırmada', 'Verb', 'Noun'),\n",
       " ('karışsın', 'Verb', 'Noun'),\n",
       " ('markaydı', 'Verb', 'Noun'),\n",
       " ('arkadaşım', 'Verb', 'Noun'),\n",
       " ('Bilirsiniz', 'Verb', 'Noun'),\n",
       " ('yazmak', 'Verb', 'Noun'),\n",
       " ('kurtulsun', 'Verb', 'Noun'),\n",
       " ('Anlat', 'Verb', 'Noun'),\n",
       " ('ölçülsün', 'Verb', 'Noun'),\n",
       " ('kimsiniz', 'Verb', 'Noun'),\n",
       " ('uçsa', 'Verb', 'Noun'),\n",
       " ('aralanır', 'Verb', 'Noun'),\n",
       " ('dinleyin', 'Verb', 'Noun'),\n",
       " ('Bırak', 'Verb', 'Noun'),\n",
       " ('zırlasın', 'Verb', 'Noun'),\n",
       " ('tanımaz', 'Verb', 'Noun'),\n",
       " ('oyalayamaz', 'Verb', 'Noun'),\n",
       " ('demez', 'Verb', 'Noun'),\n",
       " ('düşer', 'Verb', 'Noun'),\n",
       " ('anımsarsınız', 'Verb', 'Noun'),\n",
       " ('Okumayabilir', 'Verb', 'Noun'),\n",
       " ('gelin', 'Verb', 'Noun'),\n",
       " ('etmeli', 'Verb', 'Noun'),\n",
       " ('hakimim', 'Verb', 'Noun'),\n",
       " ('gibiyim', 'Verb', 'Noun'),\n",
       " ('YAŞINDAYDI', 'Verb', 'Noun'),\n",
       " ('etsin', 'Verb', 'Noun'),\n",
       " ('kişiydi', 'Verb', 'Noun'),\n",
       " ('bakışın', 'Verb', 'Noun'),\n",
       " ('zorlamaya', 'Verb', 'Noun'),\n",
       " ('olsam', 'Verb', 'Noun'),\n",
       " ('uzatsam', 'Verb', 'Noun'),\n",
       " ('barışsalar', 'Verb', 'Noun'),\n",
       " ('saklamazlar', 'Verb', 'Noun'),\n",
       " ('duyabilirsiniz', 'Verb', 'Noun'),\n",
       " ('bulabilirsiniz', 'Verb', 'Noun'),\n",
       " ('Bul', 'Verb', 'Noun'),\n",
       " ('kan', 'Verb', 'Noun'),\n",
       " ('rahatla', 'Verb', 'Noun'),\n",
       " ('geçemezsiniz', 'Verb', 'Noun'),\n",
       " ('Gidelim', 'Verb', 'Noun'),\n",
       " ('yıkayın', 'Verb', 'Noun'),\n",
       " ('dinlenirsiniz', 'Verb', 'Noun'),\n",
       " ('kazanırsa', 'Verb', 'Noun'),\n",
       " ('kazansın', 'Verb', 'Noun'),\n",
       " ('seve', 'Verb', 'Noun'),\n",
       " ('seve', 'Verb', 'Noun'),\n",
       " ('kanıtlarsınız', 'Verb', 'Noun'),\n",
       " ('canlanmakta', 'Verb', 'Noun'),\n",
       " ('ARADI', 'Verb', 'Noun'),\n",
       " ('bırakmam', 'Verb', 'Noun'),\n",
       " ('Buyur', 'Verb', 'Noun'),\n",
       " ('okuldansınız', 'Verb', 'Noun'),\n",
       " ('sarılışımsa', 'Verb', 'Noun'),\n",
       " ('düzelir', 'Verb', 'Noun'),\n",
       " ('Giremedi', 'Verb', 'Noun'),\n",
       " ('oluşturmakta', 'Verb', 'Noun'),\n",
       " ('kapatsın', 'Verb', 'Noun'),\n",
       " ('İsterseniz', 'Verb', 'Noun'),\n",
       " ('başlarsınız', 'Verb', 'Noun'),\n",
       " ('gözleriydi', 'Verb', 'Noun'),\n",
       " ('yapamam', 'Verb', 'Noun'),\n",
       " ('onarsa', 'Verb', 'Noun'),\n",
       " ('taksak', 'Verb', 'Noun'),\n",
       " ('kaybetmez', 'Verb', 'Noun'),\n",
       " ('taşımakta', 'Verb', 'Noun'),\n",
       " ('oynarlar', 'Verb', 'Noun'),\n",
       " ('etmeyin', 'Verb', 'Noun'),\n",
       " ('oturmakta', 'Verb', 'Noun'),\n",
       " ('Yarayabilir', 'Verb', 'Noun'),\n",
       " ('sil', 'Verb', 'Noun'),\n",
       " ('Çalışkandırlar', 'Verb', 'Noun'),\n",
       " ('Sileyim', 'Verb', 'Noun')]"
      ]
     },
     "execution_count": 72,
     "metadata": {},
     "output_type": "execute_result"
    }
   ],
   "source": [
    "list(filter(lambda e: e[1]=='Verb' and e[2]=='Noun' ,examples))"
   ]
  }
 ],
 "metadata": {
  "kernelspec": {
   "display_name": "Python 3",
   "language": "python",
   "name": "python3"
  },
  "language_info": {
   "codemirror_mode": {
    "name": "ipython",
    "version": 3
   },
   "file_extension": ".py",
   "mimetype": "text/x-python",
   "name": "python",
   "nbconvert_exporter": "python",
   "pygments_lexer": "ipython3",
   "version": "3.6.6"
  }
 },
 "nbformat": 4,
 "nbformat_minor": 2
}
